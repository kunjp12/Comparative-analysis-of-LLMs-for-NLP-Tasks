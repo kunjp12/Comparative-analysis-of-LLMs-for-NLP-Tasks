{
  "nbformat": 4,
  "nbformat_minor": 0,
  "metadata": {
    "colab": {
      "provenance": []
    },
    "kernelspec": {
      "name": "python3",
      "display_name": "Python 3"
    },
    "language_info": {
      "name": "python"
    }
  },
  "cells": [
    {
      "cell_type": "markdown",
      "source": [
        "# EDA"
      ],
      "metadata": {
        "id": "Fx0CiUMaVhdM"
      }
    },
    {
      "cell_type": "code",
      "source": [
        "#EDA FOR SENTIMENT ANALYSIS"
      ],
      "metadata": {
        "id": "-bfO-1cjAOdr"
      },
      "execution_count": 6,
      "outputs": []
    },
    {
      "cell_type": "code",
      "source": [
        "import pandas as pd\n",
        "\n",
        "# Load the dataset\n",
        "data = pd.read_csv('filtered_sentiment_analysis_dataset.csv')\n",
        "\n",
        "# Display the first few rows of the dataset to understand its structure\n",
        "data.head()\n"
      ],
      "metadata": {
        "id": "3chq6RWhAQYF"
      },
      "execution_count": null,
      "outputs": []
    },
    {
      "cell_type": "code",
      "source": [
        "import matplotlib.pyplot as plt\n",
        "import seaborn as sns\n",
        "from wordcloud import WordCloud\n",
        "from itertools import chain\n",
        "import ast\n",
        "\n",
        "# Data Preprocessing for Sentiment Distribution\n",
        "# Convert the sentiment list from string to actual list\n",
        "data['output'] = data['output'].apply(ast.literal_eval)\n",
        "\n",
        "# Flatten the list of lists into a single list of sentiments\n",
        "all_sentiments = list(chain.from_iterable(data['output']))\n",
        "\n",
        "# Count the frequency of each sentiment\n",
        "sentiment_counts = pd.Series(all_sentiments).value_counts()\n",
        "\n",
        "# Data Preprocessing for Text Length Distribution\n",
        "data['text_length'] = data['input'].apply(len)\n",
        "\n",
        "# Plotting\n",
        "\n",
        "# Sentiment Distribution\n",
        "plt.figure(figsize=(10, 6))\n",
        "sns.barplot(x=sentiment_counts.values, y=sentiment_counts.index, palette=\"viridis\")\n",
        "plt.title(\"Distribution of Sentiments\")\n",
        "plt.xlabel(\"Frequency\")\n",
        "plt.ylabel(\"Sentiments\")\n",
        "plt.show()\n",
        "\n",
        "# Text Length Distribution\n",
        "plt.figure(figsize=(10, 6))\n",
        "sns.histplot(data['text_length'], bins=30, color='skyblue')\n",
        "plt.title(\"Distribution of Text Lengths\")\n",
        "plt.xlabel(\"Text Length\")\n",
        "plt.ylabel(\"Frequency\")\n",
        "plt.show()\n",
        "\n",
        "# Word Cloud\n",
        "text_for_wordcloud = ' '.join(data['input'])\n",
        "wordcloud = WordCloud(width=800, height=400, background_color ='white').generate(text_for_wordcloud)\n",
        "\n",
        "plt.figure(figsize=(10, 5))\n",
        "plt.imshow(wordcloud, interpolation='bilinear')\n",
        "plt.axis('off')\n",
        "plt.title(\"Word Cloud of Text Inputs\")\n",
        "plt.show()\n"
      ],
      "metadata": {
        "id": "MX8qEGAdAvF9"
      },
      "execution_count": null,
      "outputs": []
    },
    {
      "cell_type": "code",
      "source": [
        "#EDA for Question and Answer dataset"
      ],
      "metadata": {
        "id": "GZBjHyDAA16v"
      },
      "execution_count": null,
      "outputs": []
    },
    {
      "cell_type": "code",
      "source": [
        "# Data Preprocessing for Graphs\n",
        "\n",
        "# Counting the frequency of questions per article\n",
        "article_question_counts = data_new['ArticleTitle'].value_counts()\n",
        "\n",
        "# Calculating the length of each question\n",
        "data_new['question_length'] = data_new['Question'].apply(len)\n",
        "\n",
        "# Plotting\n",
        "\n",
        "\n",
        "# Frequency of Questions per Article\n",
        "plt.figure(figsize=(10, 6))\n",
        "article_question_counts.head(10).plot(kind='bar', color='lightgreen')\n",
        "plt.title(\"Top 10 Articles with Most Questions\")\n",
        "plt.xlabel(\"Article Title\")\n",
        "plt.ylabel(\"Number of Questions\")\n",
        "plt.xticks(rotation=45)\n",
        "plt.show()\n",
        "\n",
        "# Length of Questions\n",
        "plt.figure(figsize=(10, 6))\n",
        "sns.histplot(data_new['question_length'], bins=30, color='plum')\n",
        "plt.title(\"Distribution of Question Lengths\")\n",
        "plt.xlabel(\"Question Length\")\n",
        "plt.ylabel(\"Frequency\")\n",
        "plt.show()\n"
      ],
      "metadata": {
        "id": "61jDKJefBRnw"
      },
      "execution_count": null,
      "outputs": []
    }
  ]
}